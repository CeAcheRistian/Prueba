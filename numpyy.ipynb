{
 "cells": [
  {
   "cell_type": "code",
   "execution_count": 1,
   "id": "e77f3b71-f598-4d82-9a63-365a26722786",
   "metadata": {},
   "outputs": [],
   "source": [
    "import numpy as np"
   ]
  },
  {
   "cell_type": "code",
   "execution_count": 2,
   "id": "bfc13267-897a-49ca-b523-d147f361b80d",
   "metadata": {},
   "outputs": [],
   "source": [
    "#Numpy sirve para hacer operaciones de matrices y para crear rangos entre graficas\n"
   ]
  },
  {
   "cell_type": "code",
   "execution_count": 7,
   "id": "560ad8e9-a348-42dc-adc9-6484eec56966",
   "metadata": {},
   "outputs": [
    {
     "data": {
      "text/plain": [
       "list"
      ]
     },
     "execution_count": 7,
     "metadata": {},
     "output_type": "execute_result"
    }
   ],
   "source": [
    "lista = [1,2,3,4,5,6,7]\n",
    "arreglo = np.array(lista)\n",
    "arreglo\n",
    "type(lista)"
   ]
  },
  {
   "cell_type": "code",
   "execution_count": 6,
   "id": "175b7eae-e2ef-4cbc-be81-fac040aabf1d",
   "metadata": {},
   "outputs": [
    {
     "data": {
      "text/plain": [
       "numpy.ndarray"
      ]
     },
     "execution_count": 6,
     "metadata": {},
     "output_type": "execute_result"
    }
   ],
   "source": [
    "type(arreglo) #Con el array de numpy puedes saber el numero de dimensiones y el tipo"
   ]
  },
  {
   "cell_type": "code",
   "execution_count": 9,
   "id": "44af785a-1a14-402d-913e-8877fd39909c",
   "metadata": {},
   "outputs": [
    {
     "name": "stdout",
     "output_type": "stream",
     "text": [
      "Contenido del arreglo:  [1 2 3 4 5 6 7]\n",
      "Tamaño del arreglo:  7\n",
      "Dimensióndel arreglo (dimensiones, numero de elementos) (7,)\n",
      "Dimensiones del arreglo:  1\n",
      "Tipo de dato del arreglo:  int64\n",
      "\n",
      "\n",
      "Contenido del arreglo de tipo complejo [1.+3.j 5.+0.j 8.+7.j]\n",
      "Tipo de dato del arreglo complejo:  complex128\n",
      "\n",
      "\n",
      "Contenido del arreglo de tipo complejo [1.9 5.  8. ]\n",
      "Tipo de dato del arreglo complejo:  float64\n"
     ]
    }
   ],
   "source": [
    "#Caracteristicas basicas\n",
    "print('Contenido del arreglo: ',arreglo)\n",
    "print('Tamaño del arreglo: ',arreglo.size)##tamaño del arreglo\n",
    "print('Dimensióndel arreglo (dimensiones, numero de elementos)',arreglo.shape)#forma del arreglo\n",
    "print('Dimensiones del arreglo: ',arreglo.ndim)##numero de dimensiones\n",
    "print('Tipo de dato del arreglo: ', arreglo.dtype) ##tipo de dato del arreglo, puede ser int, complex, float, etc\n",
    "print('\\n')\n",
    "# ¿Qué significa 'int64'?  Es la capacidad de almacenamiento ->Int16: 2 bytes; Int32 y int: 4 bytes->Int64 : 8 bytes\n",
    "\n",
    "# arreglo complejo\n",
    "arreglo_complejo=np.array([1+3j,5,8+7j], dtype= complex)\n",
    "print('Contenido del arreglo de tipo complejo', arreglo_complejo)\n",
    "print('Tipo de dato del arreglo complejo: ', arreglo_complejo.dtype)\n",
    "print('\\n')\n",
    "# arreglo flotante\n",
    "arreglo_flotante=np.array([1.9,5,8], dtype= float)\n",
    "print('Contenido del arreglo de tipo complejo', arreglo_flotante)\n",
    "print('Tipo de dato del arreglo complejo: ', arreglo_flotante.dtype)"
   ]
  },
  {
   "cell_type": "code",
   "execution_count": 11,
   "id": "b6d21d85-d3ac-401b-b0d6-c1bc9c13cbc7",
   "metadata": {},
   "outputs": [
    {
     "data": {
      "text/plain": [
       "array([[1, 2, 3],\n",
       "       [1, 2, 3]])"
      ]
     },
     "execution_count": 11,
     "metadata": {},
     "output_type": "execute_result"
    }
   ],
   "source": [
    "arr_bidimensional = np.array([[1,2,3],[1,2,3]])\n",
    "arr_bidimensional"
   ]
  },
  {
   "cell_type": "code",
   "execution_count": 13,
   "id": "77a64c01-ee21-4986-b76b-dfef8f416aef",
   "metadata": {},
   "outputs": [
    {
     "data": {
      "text/plain": [
       "array([[1, 2, 3],\n",
       "       [4, 5, 6],\n",
       "       [7, 8, 9]])"
      ]
     },
     "execution_count": 13,
     "metadata": {},
     "output_type": "execute_result"
    }
   ],
   "source": [
    "matrix3 = np.array([[1,2,3],[4,5,6],[7,8,9]])\n",
    "matrix3"
   ]
  },
  {
   "cell_type": "code",
   "execution_count": 15,
   "id": "25315d93-bf98-48e4-9bd3-c8ad2025c933",
   "metadata": {},
   "outputs": [
    {
     "data": {
      "text/plain": [
       "array([[0., 0., 0.],\n",
       "       [0., 0., 0.],\n",
       "       [0., 0., 0.]])"
      ]
     },
     "execution_count": 15,
     "metadata": {},
     "output_type": "execute_result"
    }
   ],
   "source": [
    "ma_zeros = np.zeros((3,3))\n",
    "ma_zeros"
   ]
  },
  {
   "cell_type": "code",
   "execution_count": 16,
   "id": "7995a157-179b-42eb-bfc7-7dd4527d13d3",
   "metadata": {},
   "outputs": [
    {
     "data": {
      "text/plain": [
       "array([[1., 1., 1.],\n",
       "       [1., 1., 1.],\n",
       "       [1., 1., 1.]])"
      ]
     },
     "execution_count": 16,
     "metadata": {},
     "output_type": "execute_result"
    }
   ],
   "source": [
    "ma_unos = np.ones((3,3))\n",
    "ma_unos"
   ]
  },
  {
   "cell_type": "code",
   "execution_count": 19,
   "id": "72448735-491d-4925-aaa6-7d72af860c99",
   "metadata": {},
   "outputs": [
    {
     "data": {
      "text/plain": [
       "array([[ 2.,  3.,  4.],\n",
       "       [ 5.,  6.,  7.],\n",
       "       [ 8.,  9., 10.]])"
      ]
     },
     "execution_count": 19,
     "metadata": {},
     "output_type": "execute_result"
    }
   ],
   "source": [
    "ma_nueva = ma_zeros + ma_unos + matrix3\n",
    "ma_nueva"
   ]
  },
  {
   "cell_type": "code",
   "execution_count": 21,
   "id": "0d67859b-bfcc-478e-a2ec-14d745a1ef8e",
   "metadata": {},
   "outputs": [
    {
     "data": {
      "text/plain": [
       "array([[0., 0., 0.],\n",
       "       [0., 0., 0.],\n",
       "       [0., 0., 0.]])"
      ]
     },
     "execution_count": 21,
     "metadata": {},
     "output_type": "execute_result"
    }
   ],
   "source": [
    "ma_nueva2 = ma_zeros * ma_unos * matrix3\n",
    "ma_nueva2"
   ]
  },
  {
   "cell_type": "code",
   "execution_count": 22,
   "id": "fd5d1bcd-1945-4a5a-8afb-9feff1634008",
   "metadata": {},
   "outputs": [
    {
     "data": {
      "text/plain": [
       "array([[ 2.,  5.,  8.],\n",
       "       [ 3.,  6.,  9.],\n",
       "       [ 4.,  7., 10.]])"
      ]
     },
     "execution_count": 22,
     "metadata": {},
     "output_type": "execute_result"
    }
   ],
   "source": [
    "ma_nueva.transpose()"
   ]
  },
  {
   "cell_type": "code",
   "execution_count": 23,
   "id": "aa97ff15-69cb-47bb-b3aa-1e9ab257a9b4",
   "metadata": {},
   "outputs": [
    {
     "data": {
      "text/plain": [
       "array([ 2.,  6., 10.])"
      ]
     },
     "execution_count": 23,
     "metadata": {},
     "output_type": "execute_result"
    }
   ],
   "source": [
    "ma_nueva.diagonal()"
   ]
  },
  {
   "cell_type": "markdown",
   "id": "a7fcbfc1-62eb-4aa5-8cfc-73909a936972",
   "metadata": {},
   "source": []
  }
 ],
 "metadata": {
  "kernelspec": {
   "display_name": "Python 3 (ipykernel)",
   "language": "python",
   "name": "python3"
  },
  "language_info": {
   "codemirror_mode": {
    "name": "ipython",
    "version": 3
   },
   "file_extension": ".py",
   "mimetype": "text/x-python",
   "name": "python",
   "nbconvert_exporter": "python",
   "pygments_lexer": "ipython3",
   "version": "3.10.12"
  }
 },
 "nbformat": 4,
 "nbformat_minor": 5
}
